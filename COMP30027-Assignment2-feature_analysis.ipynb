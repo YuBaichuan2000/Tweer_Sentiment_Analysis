{
 "cells": [
  {
   "cell_type": "markdown",
   "metadata": {},
   "source": [
    "##### The University of Melbourne, School of Computing and Information Systems\n",
    "# COMP30027 Machine Learning, 2022 Semester 1\n",
    "\n",
    "## Assignment 2: Sentiment Classification of Tweets\n",
    "\n",
    "This is a sample code to assist you with vectorising the 'Train' dataset for your assignment 2.\n",
    "\n",
    "First we read the CSV datafiles (Train and Test)."
   ]
  },
  {
   "cell_type": "code",
   "execution_count": 1,
   "metadata": {},
   "outputs": [],
   "source": [
    "import pandas as pd\n",
    "\n",
    "train_data = pd.read_csv(\"Train.csv\", sep=',')\n",
    "test_data = pd.read_csv(\"Test.csv\", sep=',')\n"
   ]
  },
  {
   "cell_type": "markdown",
   "metadata": {},
   "source": [
    "# Transform dataset to balanced distribution"
   ]
  },
  {
   "cell_type": "code",
   "execution_count": 2,
   "metadata": {},
   "outputs": [
    {
     "name": "stdout",
     "output_type": "stream",
     "text": [
      "length of positive sentiments 5428\n",
      "length of neutral sentiments 12659\n",
      "length of negative sentiments 3715\n"
     ]
    }
   ],
   "source": [
    "print(\"length of positive sentiments\", len(train_data[train_data['sentiment']==\"positive\"]))\n",
    "print(\"length of neutral sentiments\", len(train_data[train_data['sentiment']==\"neutral\"]))\n",
    "print(\"length of negative sentiments\", len(train_data[train_data['sentiment']==\"negative\"]))\n",
    "\n",
    "neutral_counter = 0\n",
    "positive_counter = 0\n",
    "drop_indices = []\n",
    "for index, row in train_data.iterrows():\n",
    "    if (row['sentiment'] == 'neutral') and (neutral_counter > 3715):\n",
    "        drop_indices.append(index)\n",
    "        neutral_counter += 1\n",
    "    elif row['sentiment'] == 'neutral':\n",
    "        neutral_counter += 1\n",
    "    elif (row['sentiment'] == 'positive') and (positive_counter > 3715):\n",
    "        drop_indices.append(index)\n",
    "        positive_counter += 1\n",
    "    elif row['sentiment'] == 'positive':\n",
    "        positive_counter += 1\n",
    "\n",
    "train_data = train_data.drop(drop_indices)\n"
   ]
  },
  {
   "cell_type": "markdown",
   "metadata": {},
   "source": [
    "Then we separate the tweet text and the label (sentiment). "
   ]
  },
  {
   "cell_type": "code",
   "execution_count": 3,
   "metadata": {},
   "outputs": [
    {
     "name": "stdout",
     "output_type": "stream",
     "text": [
      "Train length: 11147\n",
      "Test length: 6099\n"
     ]
    }
   ],
   "source": [
    "#separating instance and label for Train\n",
    "X_train_raw = [x[0] for x in train_data[['text']].values]\n",
    "Y_train = [x[0] for x in train_data[['sentiment']].values]\n",
    "\n",
    "#check the result\n",
    "print(\"Train length:\",len(X_train_raw))\n",
    "\n",
    "#separating instance and label for Test\n",
    "X_test_raw = [x[0] for x in test_data[['text']].values]\n",
    "\n",
    "#check the result\n",
    "print(\"Test length:\",len(X_test_raw))\n"
   ]
  },
  {
   "cell_type": "markdown",
   "metadata": {},
   "source": [
    "# Visualisation"
   ]
  },
  {
   "cell_type": "code",
   "execution_count": 4,
   "metadata": {},
   "outputs": [
    {
     "data": {
      "text/plain": [
       "[Text(0.5, 1.0, 'train_data sentiments')]"
      ]
     },
     "execution_count": 4,
     "metadata": {},
     "output_type": "execute_result"
    },
    {
     "data": {
      "image/png": "[encoded data removed]",
      "text/plain": [
       "<Figure size 432x288 with 1 Axes>"
      ]
     },
     "metadata": {
      "needs_background": "light"
     },
     "output_type": "display_data"
    }
   ],
   "source": [
    "import seaborn as sns\n",
    "sns.countplot(x='sentiment', data=train_data).set(title=\"train_data sentiments\")\n"
   ]
  },
  {
   "cell_type": "markdown",
   "metadata": {},
   "source": [
    "# Preprocess"
   ]
  },
  {
   "cell_type": "code",
   "execution_count": 5,
   "metadata": {},
   "outputs": [
    {
     "name": "stderr",
     "output_type": "stream",
     "text": [
      "[nltk_data] Downloading package omw-1.4 to /Users/kennyyu/nltk_data...\n",
      "[nltk_data]   Package omw-1.4 is already up-to-date!\n",
      "[nltk_data] Downloading package stopwords to\n",
      "[nltk_data]     /Users/kennyyu/nltk_data...\n",
      "[nltk_data]   Package stopwords is already up-to-date!\n",
      "[nltk_data] Downloading package punkt to /Users/kennyyu/nltk_data...\n",
      "[nltk_data]   Package punkt is already up-to-date!\n",
      "[nltk_data] Downloading package wordnet to /Users/kennyyu/nltk_data...\n",
      "[nltk_data]   Package wordnet is already up-to-date!\n"
     ]
    },
    {
     "data": {
      "text/plain": [
       "True"
      ]
     },
     "execution_count": 5,
     "metadata": {},
     "output_type": "execute_result"
    }
   ],
   "source": [
    "import nltk\n",
    "from nltk.corpus import stopwords\n",
    "import re\n",
    "from nltk.stem import WordNetLemmatizer\n",
    "\n",
    "nltk.download('omw-1.4')\n",
    "nltk.download('stopwords')\n",
    "nltk.download('punkt')\n",
    "nltk.download('wordnet')\n"
   ]
  },
  {
   "cell_type": "code",
   "execution_count": 6,
   "metadata": {},
   "outputs": [],
   "source": [
    "X_train_preprocessed = []\n",
    "stopWords = set(stopwords.words('english'))\n",
    "wordnet_lemmatizer = WordNetLemmatizer()\n",
    "\n",
    "for tweet in X_train_raw:\n",
    "    tweet = tweet.lower()\n",
    "    # Remove usernames\n",
    "    tweet = re.sub(r'@[^ ]* |$',' ', tweet)\n",
    "    # Remove URLs\n",
    "    tweet = re.sub(r'http.?:[^ ]*( |\"|$)' ,' ', tweet)\n",
    "    # Remove non-letters\n",
    "    tweet = re.sub(r'[^a-z]' ,' ', tweet)\n",
    "    # Remove letters that occur more than two times in a row\n",
    "    tweet = re.sub(r'([a-z])\\1{2,}' ,r'\\1', tweet)\n",
    "    # remove extra spaces\n",
    "    tweet = re.sub(r' {2,}' ,' ', tweet)\n",
    "    \n",
    "    # Tokenization\n",
    "    wordList = nltk.word_tokenize(tweet)\n",
    "    # Lemmatization\n",
    "    wordList = [wordnet_lemmatizer.lemmatize(word) for word in wordList]\n",
    "    # Removing stop words\n",
    "    filteredList = [w for w in wordList if not w in stopWords]\n",
    "    \n",
    "    X_train_preprocessed.append(filteredList)\n",
    "\n",
    "X_train_preprocessed = [' '.join(item) for item in X_train_preprocessed]\n"
   ]
  },
  {
   "cell_type": "markdown",
   "metadata": {},
   "source": [
    "# BOW"
   ]
  },
  {
   "cell_type": "code",
   "execution_count": 7,
   "metadata": {},
   "outputs": [
    {
     "data": {
      "text/plain": [
       "(6099, 98870)"
      ]
     },
     "execution_count": 7,
     "metadata": {},
     "output_type": "execute_result"
    }
   ],
   "source": [
    "from sklearn.feature_extraction.text import CountVectorizer\n",
    "\n",
    "BoW_vectorizer = CountVectorizer(ngram_range=(1,2))\n",
    "\n",
    "#Build the feature set (vocabulary) and vectorise the Tarin dataset using BoW\n",
    "X_train_BoW_raw = BoW_vectorizer.fit_transform(X_train_raw)\n",
    "X_train_BoW_preprocessed = BoW_vectorizer.fit_transform(X_train_preprocessed)\n",
    "\n",
    "#Use the feature set (vocabulary) from Train to vectorise the Test dataset \n",
    "X_test_BoW = BoW_vectorizer.transform(X_test_raw)\n",
    "X_test_BoW.shape\n"
   ]
  },
  {
   "cell_type": "markdown",
   "metadata": {},
   "source": [
    "# TFIDF"
   ]
  },
  {
   "cell_type": "code",
   "execution_count": 8,
   "metadata": {},
   "outputs": [
    {
     "data": {
      "text/plain": [
       "(6099, 98870)"
      ]
     },
     "execution_count": 8,
     "metadata": {},
     "output_type": "execute_result"
    }
   ],
   "source": [
    "from sklearn.feature_extraction.text import TfidfVectorizer\n",
    "\n",
    "tfidf_vectorizer = TfidfVectorizer(ngram_range=(1,2))\n",
    "\n",
    "#Build the feature set (vocabulary) and vectorise the Tarin dataset using TFIDF\n",
    "X_train_tfidf_raw = tfidf_vectorizer.fit_transform(X_train_raw)\n",
    "X_train_tfidf_preprocessed = tfidf_vectorizer.fit_transform(X_train_preprocessed)\n",
    "\n",
    "#Use the feature set (vocabulary) from Train to vectorise the Test dataset \n",
    "X_test_tfidf = tfidf_vectorizer.transform(X_test_raw)\n",
    "X_test_tfidf.shape\n"
   ]
  },
  {
   "cell_type": "markdown",
   "metadata": {},
   "source": [
    "# Feature Selection"
   ]
  },
  {
   "cell_type": "code",
   "execution_count": 9,
   "metadata": {},
   "outputs": [],
   "source": [
    "from sklearn.feature_selection import SelectKBest, chi2, mutual_info_classif\n",
    "from sklearn.naive_bayes import MultinomialNB\n",
    "from sklearn import svm\n",
    "from sklearn.linear_model import LogisticRegression\n",
    "from sklearn.ensemble import StackingClassifier\n",
    "from sklearn.model_selection import cross_val_score\n",
    "import numpy as np\n",
    "from sklearn.model_selection import KFold\n",
    "import warnings\n",
    "\n",
    "CV = 5\n",
    "\n",
    "warnings.filterwarnings('ignore')\n",
    "\n",
    "models = [MultinomialNB(),\n",
    "          svm.LinearSVC(max_iter=10000),\n",
    "          LogisticRegression(max_iter = 10000)]\n",
    "\n",
    "titles = ['MNB',\n",
    "          'Linear SVM',\n",
    "          'Logistic regression']\n",
    "\n",
    "\n",
    "for k in [1000, 3000, 5000, 10000]:\n",
    "    x2 = SelectKBest(chi2, k=k)\n",
    "    X_train_BoW_x2 = x2.fit_transform(X_train_BoW_preprocessed, Y_train)\n",
    "    X_train_tfidf_x2 = x2.fit_transform(X_train_tfidf_preprocessed, Y_train)\n",
    "\n",
    "    mi = SelectKBest(score_func=mutual_info_classif, k=k)\n",
    "    X_train_BoW_mi = mi.fit_transform(X_train_BoW_preprocessed, Y_train)\n",
    "    X_train_tfidf_mi = mi.fit_transform(X_train_tfidf_preprocessed, Y_train)\n",
    "\n",
    "    X_BoWs = [X_train_BoW_preprocessed, X_train_BoW_x2, X_train_BoW_mi]\n",
    "    X_tfidfs = [X_train_tfidf_preprocessed, X_train_tfidf_x2, X_train_tfidf_mi]\n",
    "\n",
    "    X_names = ['complete', 'x2', 'mi']\n",
    "\n",
    "    print('\\n--------------------------------------- K =', k,'------------------------------')\n",
    "    print(\"Using BoW:\")\n",
    "\n",
    "    for title, model in zip(titles, models):\n",
    "        print('\\n=========',title, '(with k=',k,'features): ')\n",
    "        for X_name, X_train_t in zip(X_names, X_BoWs):\n",
    "            \n",
    "            accuracy = cross_val_score(model, X_train_t, Y_train, cv=KFold(n_splits=CV, shuffle=True))\n",
    "            print(X_name, 'accuracy is:', np.mean(accuracy))\n",
    "\n",
    "    print(\"\\nUsing TFIDF:\")\n",
    "\n",
    "    for title, model in zip(titles, models):\n",
    "        print('\\n=========',title, '(with k=',k,'features): ')\n",
    "        for X_name, X_train_t in zip(X_names, X_tfidfs):\n",
    "            \n",
    "            accuracy = cross_val_score(model, X_train_t, Y_train, cv=KFold(n_splits=CV, shuffle=True))\n",
    "            print(X_name, 'accuracy is:', np.mean(accuracy))\n",
    "            "
   ]
  },
  {
   "cell_type": "code",
   "execution_count": 10,
   "metadata": {},
   "outputs": [],
   "source": [
    "from sklearn.feature_selection import SelectKBest, chi2, mutual_info_classif\n",
    "# chi-square\n",
    "selector_BoW = SelectKBest(chi2, k=3000)\n",
    "X_train_BoW_preprocessed = selector_BoW.fit_transform(X_train_BoW_preprocessed,Y_train)\n",
    "\n",
    "selector_tfidf = SelectKBest(chi2, k=3000)\n",
    "X_train_tfidf_preprocessed = selector_tfidf.fit_transform(X_train_tfidf_preprocessed,Y_train)\n",
    "\n",
    "X_test_new = selector_BoW.transform(X_test_BoW)\n"
   ]
  },
  {
   "cell_type": "markdown",
   "metadata": {},
   "source": [
    "# 0-R"
   ]
  },
  {
   "cell_type": "code",
   "execution_count": 11,
   "metadata": {},
   "outputs": [
    {
     "data": {
      "text/plain": [
       "DummyClassifier(strategy='most_frequent')"
      ]
     },
     "execution_count": 11,
     "metadata": {},
     "output_type": "execute_result"
    }
   ],
   "source": [
    "from sklearn.dummy import DummyClassifier\n",
    "zero_r = DummyClassifier(strategy='most_frequent')\n",
    "\n",
    "# Using BoW\n",
    "zero_r_BoW_preprocessed = DummyClassifier(strategy='most_frequent')\n",
    "zero_r_BoW_preprocessed.fit(X_train_BoW_preprocessed, Y_train)\n",
    "\n",
    "# Using TFIDF\n",
    "zero_r_tfidf_preprocessed = DummyClassifier(strategy='most_frequent')\n",
    "zero_r_tfidf_preprocessed.fit(X_train_tfidf_preprocessed, Y_train)\n"
   ]
  },
  {
   "cell_type": "markdown",
   "metadata": {},
   "source": [
    "## Evaluation"
   ]
  },
  {
   "cell_type": "code",
   "execution_count": 12,
   "metadata": {},
   "outputs": [],
   "source": [
    "from sklearn.metrics import confusion_matrix\n",
    "from sklearn.feature_selection import SelectKBest, chi2, mutual_info_classif\n",
    "from sklearn.model_selection import cross_val_score\n",
    "from sklearn.model_selection import KFold\n",
    "from sklearn.naive_bayes import MultinomialNB\n",
    "from sklearn import svm\n",
    "from sklearn.linear_model import LogisticRegression\n",
    "from sklearn.ensemble import StackingClassifier\n",
    "import numpy as np\n",
    "import warnings\n",
    "import time\n",
    "\n",
    "warnings.filterwarnings('ignore')\n",
    "\n",
    "def evaluate(clf, X, Y_train = Y_train, cv=5):\n",
    "    accuracy = clf.score(X, Y_train)\n",
    "    print(\"Training accuracy: \", accuracy)\n",
    "    # Hiding warnings raised when precision or recall equal zero in some cases\n",
    "    warnings.filterwarnings('ignore')\n",
    "    scores = cross_val_score(clf, X, Y_train, cv=KFold(n_splits=cv, shuffle=True))\n",
    "    print(\"Average cv accuracy: \", np.mean(scores))\n",
    "    precision_macro = cross_val_score(clf, X, Y_train, scoring='precision_macro', cv=KFold(n_splits=cv, shuffle=True))\n",
    "    print(\"Average cv precision (macro-averaging): \", np.mean(precision_macro))\n",
    "    precision_weighted = cross_val_score(clf, X, Y_train, scoring='precision_weighted', cv=KFold(n_splits=cv, shuffle=True))\n",
    "    print(\"Average cv precision (weighted averaging): \", np.mean(precision_weighted))\n",
    "    recall_macro = cross_val_score(clf, X, Y_train, scoring='recall_macro', cv=KFold(n_splits=cv, shuffle=True))\n",
    "    print(\"Average cv recall (macro-averaging): \", np.mean(recall_macro))\n",
    "    recall_weighted = cross_val_score(clf, X, Y_train, scoring='recall_weighted', cv=KFold(n_splits=cv, shuffle=True))\n",
    "    print(\"Average cv recall (weighted averaging): \", np.mean(recall_weighted))\n",
    "    f1_macro = cross_val_score(clf, X, Y_train, scoring='f1_macro', cv=KFold(n_splits=cv, shuffle=True))\n",
    "    print(\"Average cv f1-score (macro-averaging): \", np.mean(f1_macro))\n",
    "    f1_weighted = cross_val_score(clf, X, Y_train, scoring='f1_weighted', cv=KFold(n_splits=cv, shuffle=True))\n",
    "    print(\"Average cv f1-score (weighted averaging): \", np.mean(f1_weighted))\n",
    "    y_pred = clf.predict(X)\n",
    "    print(\"Confusion matrix:\")\n",
    "    print(confusion_matrix(Y_train, y_pred, labels=[\"positive\", \"neutral\", \"negative\"]))\n",
    "    "
   ]
  },
  {
   "cell_type": "code",
   "execution_count": 13,
   "metadata": {},
   "outputs": [
    {
     "name": "stdout",
     "output_type": "stream",
     "text": [
      "Using BoW:\n",
      "Training accuracy:  0.33336323674531265\n",
      "Average cv accuracy:  0.3245713756897964\n",
      "Average cv precision (macro-averaging):  0.10914756629052688\n",
      "Average cv precision (weighted averaging):  0.1053250384433023\n",
      "Average cv recall (macro-averaging):  0.3333333333333333\n",
      "Average cv recall (weighted averaging):  0.3257384215809941\n",
      "Average cv f1-score (macro-averaging):  0.1641410459606216\n",
      "Average cv f1-score (weighted averaging):  0.16294786129485847\n",
      "Confusion matrix:\n",
      "[[   0 3716    0]\n",
      " [   0 3716    0]\n",
      " [   0 3715    0]]\n",
      "\n",
      "Using TFIDF:\n",
      "Training accuracy:  0.33336323674531265\n",
      "Average cv accuracy:  0.32367491706349444\n",
      "Average cv precision (macro-averaging):  0.107831821464712\n",
      "Average cv precision (weighted averaging):  0.10610981414425655\n",
      "Average cv recall (macro-averaging):  0.3333333333333333\n",
      "Average cv recall (weighted averaging):  0.31613943391937105\n",
      "Average cv f1-score (macro-averaging):  0.16362945259199313\n",
      "Average cv f1-score (weighted averaging):  0.15838259184106013\n",
      "Confusion matrix:\n",
      "[[   0 3716    0]\n",
      " [   0 3716    0]\n",
      " [   0 3715    0]]\n"
     ]
    }
   ],
   "source": [
    "# Using BoW\n",
    "print(\"Using BoW:\")\n",
    "evaluate(zero_r_BoW_preprocessed, X_train_BoW_preprocessed)\n",
    "print()\n",
    "\n",
    "# Using TFIDF\n",
    "print(\"Using TFIDF:\")\n",
    "evaluate(zero_r_tfidf_preprocessed, X_train_tfidf_preprocessed)\n"
   ]
  },
  {
   "cell_type": "markdown",
   "metadata": {},
   "source": [
    "# Naive Bayes"
   ]
  },
  {
   "cell_type": "code",
   "execution_count": 13,
   "metadata": {},
   "outputs": [
    {
     "name": "stdout",
     "output_type": "stream",
     "text": [
      "Using BoW:\n",
      "Training accuracy:  0.7117610119314614\n",
      "Average cv accuracy:  0.6613435210947417\n",
      "Average cv precision (macro-averaging):  0.6530480932316254\n",
      "Average cv precision (weighted averaging):  0.653453155813154\n",
      "Average cv recall (macro-averaging):  0.6608041489758814\n",
      "Average cv recall (weighted averaging):  0.659549597941525\n",
      "Average cv f1-score (macro-averaging):  0.65132901288805\n",
      "Average cv f1-score (weighted averaging):  0.6534559576978187\n",
      "Confusion matrix:\n",
      "[[2964  466  286]\n",
      " [ 794 2016  906]\n",
      " [ 385  376 2954]]\n",
      "\n",
      "Using TFIDF:\n",
      "Training accuracy:  0.7033282497532969\n",
      "Average cv accuracy:  0.6544357601691522\n",
      "Average cv precision (macro-averaging):  0.6503723648618175\n",
      "Average cv precision (weighted averaging):  0.6483688530412516\n",
      "Average cv recall (macro-averaging):  0.6551361539274271\n",
      "Average cv recall (weighted averaging):  0.6523734627323882\n",
      "Average cv f1-score (macro-averaging):  0.6434285541135356\n",
      "Average cv f1-score (weighted averaging):  0.6427336095340426\n",
      "Confusion matrix:\n",
      "[[3017  444  255]\n",
      " [ 914 1919  883]\n",
      " [ 462  349 2904]]\n"
     ]
    }
   ],
   "source": [
    "from sklearn.naive_bayes import MultinomialNB\n",
    "\n",
    "# Using BoW\n",
    "NB_BoW_preprocessed = MultinomialNB().fit(X_train_BoW_preprocessed, Y_train)\n",
    "\n",
    "#Using TFIDF\n",
    "NB_tfidf_preprocessed = MultinomialNB().fit(X_train_tfidf_preprocessed, Y_train)\n",
    "\n",
    "\n",
    "# Using BoW\n",
    "print(\"Using BoW:\")\n",
    "evaluate(NB_BoW_preprocessed, X_train_BoW_preprocessed)\n",
    "print()\n",
    "\n",
    "# Using TFIDF\n",
    "print(\"Using TFIDF:\")\n",
    "evaluate(NB_tfidf_preprocessed, X_train_tfidf_preprocessed)\n"
   ]
  },
  {
   "cell_type": "markdown",
   "metadata": {},
   "source": [
    "# Time Complexity"
   ]
  },
  {
   "cell_type": "code",
   "execution_count": 15,
   "metadata": {},
   "outputs": [
    {
     "name": "stdout",
     "output_type": "stream",
     "text": [
      "Execution time is: 0.011 s\n"
     ]
    }
   ],
   "source": [
    "t0 = time.time()\n",
    "MultinomialNB().fit(X_train_BoW_preprocessed, Y_train)\n",
    "t1 = time.time() - t0\n",
    "print(\"Execution time is: {} s\".format(round(t1,3)))\n"
   ]
  },
  {
   "cell_type": "markdown",
   "metadata": {},
   "source": [
    "# Learning Curve"
   ]
  },
  {
   "cell_type": "code",
   "execution_count": 14,
   "metadata": {},
   "outputs": [
    {
     "data": {
      "text/plain": [
       "(0.0, 1.0)"
      ]
     },
     "execution_count": 14,
     "metadata": {},
     "output_type": "execute_result"
    },
    {
     "data": {
      "image/png": "[encoded data removed]",
      "text/plain": [
       "<Figure size 576x396 with 1 Axes>"
      ]
     },
     "metadata": {},
     "output_type": "display_data"
    }
   ],
   "source": [
    "from sklearn.model_selection import learning_curve\n",
    "import matplotlib.pyplot as plt\n",
    "\n",
    "train_sizes, train_scores, validation_scores = learning_curve(\n",
    "    estimator = MultinomialNB(),\n",
    "    X = X_train_BoW_preprocessed,\n",
    "    y = Y_train, cv = 5)\n",
    "\n",
    "train_scores_mean = train_scores.mean(axis=1)\n",
    "validation_scores_mean = validation_scores.mean(axis=1)\n",
    "\n",
    "plt.style.use('seaborn')\n",
    "plt.plot(train_sizes, train_scores_mean, label = 'Training')\n",
    "plt.plot(train_sizes, validation_scores_mean, label = 'Validation')\n",
    "plt.ylabel('Accuracy', fontsize = 14)\n",
    "plt.xlabel('Training set size', fontsize = 14)\n",
    "plt.title('Learning curve for Naive Bayes', fontsize = 18, y = 1.03)\n",
    "plt.legend()\n",
    "plt.ylim(0,1)\n"
   ]
  },
  {
   "cell_type": "markdown",
   "metadata": {},
   "source": [
    "# SVM"
   ]
  },
  {
   "cell_type": "code",
   "execution_count": 15,
   "metadata": {},
   "outputs": [],
   "source": [
    "from sklearn.svm import SVC\n",
    "from sklearn.model_selection import GridSearchCV\n",
    "\n",
    "parameters = {'kernel':['linear','rbf','poly'],'C':[1.0],'max_iter':[10000]}\n",
    "SVCmodel = SVC()\n",
    "clf = GridSearchCV(SVCmodel,parameters)\n",
    "clf.fit(X_train_BoW_preprocessed, Y_train)\n",
    "clf.best_params_\n"
   ]
  },
  {
   "cell_type": "code",
   "execution_count": 19,
   "metadata": {},
   "outputs": [
    {
     "name": "stdout",
     "output_type": "stream",
     "text": [
      "Execution time is: 4.581 s\n"
     ]
    }
   ],
   "source": [
    "t0 = time.time()\n",
    "SVC(kernel='linear',max_iter=10000).fit(X_train_BoW_preprocessed, Y_train)\n",
    "t1 = time.time() - t0\n",
    "print(\"Execution time is: {} s\".format(round(t1,3)))\n"
   ]
  },
  {
   "cell_type": "code",
   "execution_count": 18,
   "metadata": {},
   "outputs": [
    {
     "name": "stdout",
     "output_type": "stream",
     "text": [
      "Using BoW:\n",
      "Training accuracy:  0.8199515564725935\n",
      "Average cv accuracy:  0.6520144769216223\n",
      "Average cv precision (macro-averaging):  0.6571270208453037\n",
      "Average cv precision (weighted averaging):  0.6520021132039023\n",
      "Average cv recall (macro-averaging):  0.6543163268153114\n",
      "Average cv recall (weighted averaging):  0.6534489716678034\n",
      "Average cv f1-score (macro-averaging):  0.6550058970996597\n",
      "Average cv f1-score (weighted averaging):  0.6547091681991661\n",
      "Confusion matrix:\n",
      "[[3051  529  136]\n",
      " [ 381 2915  420]\n",
      " [ 132  409 3174]]\n",
      "\n",
      "Using TFIDF:\n",
      "Training accuracy:  0.7041356418767382\n",
      "Average cv accuracy:  0.6434019961091764\n",
      "Average cv precision (macro-averaging):  0.6538353808626278\n",
      "Average cv precision (weighted averaging):  0.6538164220160179\n",
      "Average cv recall (macro-averaging):  0.645032746351621\n",
      "Average cv recall (weighted averaging):  0.6440306035202499\n",
      "Average cv f1-score (macro-averaging):  0.6446072215788735\n",
      "Average cv f1-score (weighted averaging):  0.6445577579987305\n",
      "Confusion matrix:\n",
      "[[2522  962  232]\n",
      " [ 460 2509  747]\n",
      " [ 249  648 2818]]\n"
     ]
    }
   ],
   "source": [
    "SVM_BoW = SVC(kernel='linear',max_iter=10000).fit(X_train_BoW_preprocessed, Y_train)\n",
    "SVM_tfidf = SVC(kernel='linear',max_iter=10000).fit(X_train_tfidf_preprocessed, Y_train)\n",
    "\n",
    "# Using BoW\n",
    "print(\"Using BoW:\")\n",
    "evaluate(SVM_BoW, X_train_BoW_preprocessed)\n",
    "print()\n",
    "\n",
    "# Using TFIDF\n",
    "print(\"Using TFIDF:\")\n",
    "evaluate(SVM_tfidf, X_train_tfidf_preprocessed)\n"
   ]
  },
  {
   "cell_type": "markdown",
   "metadata": {},
   "source": [
    "# Learning Curve"
   ]
  },
  {
   "cell_type": "code",
   "execution_count": 16,
   "metadata": {},
   "outputs": [
    {
     "data": {
      "text/plain": [
       "(0.0, 1.0)"
      ]
     },
     "execution_count": 16,
     "metadata": {},
     "output_type": "execute_result"
    },
    {
     "data": {
      "image/png": "[encoded data removed]",
      "text/plain": [
       "<Figure size 576x396 with 1 Axes>"
      ]
     },
     "metadata": {},
     "output_type": "display_data"
    }
   ],
   "source": [
    "train_sizes, train_scores, validation_scores = learning_curve(\n",
    "    estimator = SVC(kernel='linear',max_iter=10000),\n",
    "    X = X_train_BoW_preprocessed,\n",
    "    y = Y_train, cv = 5)\n",
    "\n",
    "train_scores_mean = train_scores.mean(axis=1)\n",
    "validation_scores_mean = validation_scores.mean(axis=1)\n",
    "\n",
    "plt.style.use('seaborn')\n",
    "plt.plot(train_sizes, train_scores_mean, label = 'Training')\n",
    "plt.plot(train_sizes, validation_scores_mean, label = 'Validation')\n",
    "plt.ylabel('Accuracy', fontsize = 14)\n",
    "plt.xlabel('Training set size', fontsize = 14)\n",
    "plt.title('Learning curve for SVM', fontsize = 18, y = 1.03)\n",
    "plt.legend()\n",
    "plt.ylim(0,1)\n"
   ]
  },
  {
   "cell_type": "markdown",
   "metadata": {},
   "source": [
    "# ROC Curve"
   ]
  },
  {
   "cell_type": "code",
   "execution_count": 18,
   "metadata": {},
   "outputs": [
    {
     "data": {
      "image/png": "[encoded data removed]",
      "text/plain": [
       "<Figure size 576x396 with 1 Axes>"
      ]
     },
     "metadata": {},
     "output_type": "display_data"
    }
   ],
   "source": [
    "from sklearn.model_selection import train_test_split\n",
    "from sklearn.preprocessing import label_binarize\n",
    "from sklearn.metrics import roc_curve, auc\n",
    "from sklearn.multiclass import OneVsRestClassifier\n",
    "from itertools import cycle\n",
    "plt.style.use('ggplot')\n",
    "\n",
    "X = X_train_BoW_preprocessed\n",
    "y = Y_train\n",
    "\n",
    "# Binarize the output\n",
    "y = label_binarize(y, classes=['positive','neutral','negative'])\n",
    "labels = ['positive','neutral','negative']\n",
    "n_classes = y.shape[1]\n",
    "\n",
    "X_train, X_test, y_train, y_test = train_test_split(X, y, test_size=0.28, random_state=0)\n",
    "\n",
    "classifier = OneVsRestClassifier(SVC(kernel='linear',max_iter=10000))\n",
    "y_score = classifier.fit(X_train, y_train).decision_function(X_test)\n",
    "\n",
    "fpr = dict()\n",
    "tpr = dict()\n",
    "roc_auc = dict()\n",
    "for i in range(n_classes):\n",
    "    fpr[i], tpr[i], _ = roc_curve(y_test[:, i], y_score[:, i])\n",
    "    roc_auc[i] = auc(fpr[i], tpr[i])\n",
    "colors = cycle(['blue', 'red', 'green'])\n",
    "for i, color in zip(range(n_classes), colors):\n",
    "    plt.plot(fpr[i], tpr[i], color=color, lw=1.5,\n",
    "             label='ROC curve of class {0} (area = {1:0.2f})'\n",
    "             ''.format(labels[i], roc_auc[i]))\n",
    "plt.plot([0, 1], [0, 1], 'k--', lw=1.5)\n",
    "plt.xlim([-0.05, 1.0])\n",
    "plt.ylim([0.0, 1.05])\n",
    "plt.xlabel('False Positive Rate')\n",
    "plt.ylabel('True Positive Rate')\n",
    "plt.title('ROC curve for SVM')\n",
    "plt.legend(loc=\"lower right\")\n",
    "plt.show()\n"
   ]
  },
  {
   "cell_type": "markdown",
   "metadata": {},
   "source": [
    "# Logistic Regression"
   ]
  },
  {
   "cell_type": "code",
   "execution_count": 22,
   "metadata": {},
   "outputs": [],
   "source": [
    "parameters = {'solver':['lbfgs','saga','sag','newton-cg'],'penalty': ['l2','none'],'multi_class':['multinomial','ovr'],'max_iter':[10000]}\n",
    "lgr = LogisticRegression()\n",
    "clf = GridSearchCV(lgr,parameters)\n",
    "clf.fit(X_train_BoW_preprocessed, Y_train)\n",
    "clf.best_params_\n"
   ]
  },
  {
   "cell_type": "code",
   "execution_count": 19,
   "metadata": {},
   "outputs": [
    {
     "name": "stdout",
     "output_type": "stream",
     "text": [
      "Execution time is: 8.524 s\n"
     ]
    }
   ],
   "source": [
    "t0 = time.time()\n",
    "LogisticRegression(solver='lbfgs',multi_class='ovr',penalty='none',max_iter=10000).fit(X_train_BoW_preprocessed, Y_train)\n",
    "t1 = time.time() - t0\n",
    "print(\"Execution time is: {} s\".format(round(t1,3)))\n"
   ]
  },
  {
   "cell_type": "code",
   "execution_count": 21,
   "metadata": {},
   "outputs": [
    {
     "name": "stdout",
     "output_type": "stream",
     "text": [
      "Using BoW:\n",
      "Training accuracy:  0.845249843007087\n",
      "Average cv accuracy:  0.6515652819438829\n",
      "Average cv precision (macro-averaging):  0.6527597009415592\n",
      "Average cv precision (weighted averaging):  0.6537783527871964\n",
      "Average cv recall (macro-averaging):  0.6465739179702081\n",
      "Average cv recall (weighted averaging):  0.6461828687078403\n",
      "Average cv f1-score (macro-averaging):  0.6522088034004112\n",
      "Average cv f1-score (weighted averaging):  0.6475115258843902\n",
      "Confusion matrix:\n",
      "[[3184  446   86]\n",
      " [ 372 2996  348]\n",
      " [ 109  364 3242]]\n",
      "\n",
      "Using TFIDF:\n",
      "Training accuracy:  0.829550551717951\n",
      "Average cv accuracy:  0.6713019773994251\n",
      "Average cv precision (macro-averaging):  0.6762827290670291\n",
      "Average cv precision (weighted averaging):  0.6725346705972406\n",
      "Average cv recall (macro-averaging):  0.6790580231664396\n",
      "Average cv recall (weighted averaging):  0.6738141940623699\n",
      "Average cv f1-score (macro-averaging):  0.6778904134878798\n",
      "Average cv f1-score (weighted averaging):  0.6739325866459158\n",
      "Confusion matrix:\n",
      "[[3093  520  103]\n",
      " [ 343 2987  386]\n",
      " [ 133  415 3167]]\n"
     ]
    }
   ],
   "source": [
    "lgr = LogisticRegression(solver='lbfgs',multi_class='ovr',penalty='none',max_iter=10000)\n",
    "lgr_BoW = LogisticRegression(solver='lbfgs',multi_class='ovr',penalty='none',max_iter=10000).fit(X_train_BoW_preprocessed, Y_train)\n",
    "lgr_tfidf = LogisticRegression(solver='lbfgs',multi_class='ovr',penalty='none',max_iter=10000).fit(X_train_tfidf_preprocessed, Y_train)\n",
    "\n",
    "# Using BoW\n",
    "print(\"Using BoW:\")\n",
    "evaluate(lgr_BoW, X_train_BoW_preprocessed)\n",
    "print()\n",
    "\n",
    "# Using TFIDF\n",
    "print(\"Using TFIDF:\")\n",
    "evaluate(lgr_tfidf, X_train_tfidf_preprocessed)\n"
   ]
  },
  {
   "cell_type": "code",
   "execution_count": 22,
   "metadata": {},
   "outputs": [
    {
     "data": {
      "text/plain": [
       "(0.0, 1.0)"
      ]
     },
     "execution_count": 22,
     "metadata": {},
     "output_type": "execute_result"
    },
    {
     "data": {
      "image/png": "[encoded data removed]",
      "text/plain": [
       "<Figure size 576x396 with 1 Axes>"
      ]
     },
     "metadata": {},
     "output_type": "display_data"
    }
   ],
   "source": [
    "train_sizes, train_scores, validation_scores = learning_curve(\n",
    "    estimator = LogisticRegression(solver='lbfgs',multi_class='ovr',penalty='none',max_iter=10000),\n",
    "    X = X_train_BoW_preprocessed,\n",
    "    y = Y_train, cv = 5)\n",
    "\n",
    "train_scores_mean = train_scores.mean(axis=1)\n",
    "validation_scores_mean = validation_scores.mean(axis=1)\n",
    "\n",
    "plt.style.use('seaborn')\n",
    "plt.plot(train_sizes, train_scores_mean, label = 'Training')\n",
    "plt.plot(train_sizes, validation_scores_mean, label = 'Validation')\n",
    "plt.ylabel('Accuracy', fontsize = 14)\n",
    "plt.xlabel('Training set size', fontsize = 14)\n",
    "plt.title('Learning curve for Logistic Regression', fontsize = 18, y = 1.03)\n",
    "plt.legend()\n",
    "plt.ylim(0,1)\n"
   ]
  },
  {
   "cell_type": "code",
   "execution_count": 23,
   "metadata": {},
   "outputs": [
    {
     "data": {
      "image/png": "[encoded data removed]",
      "text/plain": [
       "<Figure size 576x396 with 1 Axes>"
      ]
     },
     "metadata": {},
     "output_type": "display_data"
    }
   ],
   "source": [
    "X = X_train_BoW_preprocessed\n",
    "y = Y_train\n",
    "\n",
    "# Binarize the output\n",
    "y = label_binarize(y, classes=['positive','neutral','negative'])\n",
    "labels = ['positive','neutral','negative']\n",
    "n_classes = y.shape[1]\n",
    "\n",
    "X_train, X_test, y_train, y_test = train_test_split(X, y, test_size=0.28, random_state=0)\n",
    "\n",
    "classifier = OneVsRestClassifier(LogisticRegression(solver='lbfgs',multi_class='ovr',penalty='none',max_iter=10000))\n",
    "y_score = classifier.fit(X_train, y_train).decision_function(X_test)\n",
    "\n",
    "fpr = dict()\n",
    "tpr = dict()\n",
    "roc_auc = dict()\n",
    "for i in range(n_classes):\n",
    "    fpr[i], tpr[i], _ = roc_curve(y_test[:, i], y_score[:, i])\n",
    "    roc_auc[i] = auc(fpr[i], tpr[i])\n",
    "colors = cycle(['blue', 'red', 'green'])\n",
    "for i, color in zip(range(n_classes), colors):\n",
    "    plt.plot(fpr[i], tpr[i], color=color, lw=1.5,\n",
    "             label='ROC curve of class {0} (area = {1:0.2f})'\n",
    "             ''.format(labels[i], roc_auc[i]))\n",
    "plt.plot([0, 1], [0, 1], 'k--', lw=1.5)\n",
    "plt.xlim([-0.05, 1.0])\n",
    "plt.ylim([0.0, 1.05])\n",
    "plt.xlabel('False Positive Rate')\n",
    "plt.ylabel('True Positive Rate')\n",
    "plt.title('ROC curve for Logistic Regression')\n",
    "plt.legend(loc=\"lower right\")\n",
    "plt.show()\n"
   ]
  },
  {
   "cell_type": "markdown",
   "metadata": {},
   "source": [
    "# Stacking"
   ]
  },
  {
   "cell_type": "code",
   "execution_count": 24,
   "metadata": {},
   "outputs": [],
   "source": [
    "from sklearn.ensemble import StackingClassifier\n",
    "\n",
    "estimators = [('lgr',LogisticRegression(solver='lbfgs',multi_class='ovr',penalty='none',max_iter=10000)),('SVM',SVC(kernel='linear',max_iter=10000)),('MultiNB',MultinomialNB())]\n",
    "stack_BoW = StackingClassifier(estimators=estimators,final_estimator=LogisticRegression()).fit(X_train_BoW_preprocessed, Y_train)\n",
    "stack_tfidf = StackingClassifier(estimators=estimators,final_estimator=LogisticRegression()).fit(X_train_tfidf_preprocessed, Y_train)\n"
   ]
  },
  {
   "cell_type": "code",
   "execution_count": 25,
   "metadata": {},
   "outputs": [
    {
     "name": "stdout",
     "output_type": "stream",
     "text": [
      "Execution time is: 60.167 s\n"
     ]
    }
   ],
   "source": [
    "t0 = time.time()\n",
    "StackingClassifier(estimators=estimators,final_estimator=LogisticRegression()).fit(X_train_BoW_preprocessed, Y_train)\n",
    "t1 = time.time() - t0\n",
    "print(\"Execution time is: {} s\".format(round(t1,3)))\n"
   ]
  },
  {
   "cell_type": "code",
   "execution_count": null,
   "metadata": {},
   "outputs": [],
   "source": [
    "# Using BoW\n",
    "print(\"Using BoW:\")\n",
    "evaluate(stack_BoW, X_train_BoW_preprocessed)\n",
    "print()\n",
    "\n",
    "# Using TFIDF\n",
    "print(\"Using TFIDF:\")\n",
    "evaluate(stack_tfidf, X_train_tfidf_preprocessed)\n"
   ]
  },
  {
   "cell_type": "code",
   "execution_count": 14,
   "metadata": {},
   "outputs": [],
   "source": [
    "output_pd = pd.DataFrame({'id': test_data['id'],'sentiment': list(stack_BoW.predict(X_test_new))})\n",
    "output_pd.to_csv('result.csv',index=False)"
   ]
  },
  {
   "cell_type": "code",
   "execution_count": null,
   "metadata": {},
   "outputs": [],
   "source": []
  }
 ],
 "metadata": {
  "interpreter": {
   "hash": "40d3a090f54c6569ab1632332b64b2c03c39dcf918b08424e98f38b5ae0af88f"
  },
  "kernelspec": {
   "display_name": "Python 3.9.7 ('base')",
   "language": "python",
   "name": "python3"
  },
  "language_info": {
   "codemirror_mode": {
    "name": "ipython",
    "version": 3
   },
   "file_extension": ".py",
   "mimetype": "text/x-python",
   "name": "python",
   "nbconvert_exporter": "python",
   "pygments_lexer": "ipython3",
   "version": "3.9.7"
  }
 },
 "nbformat": 4,
 "nbformat_minor": 4
}
